{
 "cells": [
  {
   "cell_type": "code",
   "execution_count": 15,
   "metadata": {},
   "outputs": [
    {
     "name": "stdout",
     "output_type": "stream",
     "text": [
      "6702\n"
     ]
    },
    {
     "name": "stderr",
     "output_type": "stream",
     "text": [
      "2023-09-22 14:40:23,685 : INFO : collecting all words and their counts\n",
      "2023-09-22 14:40:23,685 : INFO : PROGRESS: at sentence #0, processed 0 words, keeping 0 word types\n",
      "2023-09-22 14:40:23,695 : INFO : collected 10196 word types from a corpus of 120168 raw words and 6702 sentences\n",
      "2023-09-22 14:40:23,695 : INFO : Creating a fresh vocabulary\n",
      "2023-09-22 14:40:23,701 : INFO : Word2Vec lifecycle event {'msg': 'effective_min_count=3 retains 3685 unique words (36.14% of original 10196, drops 6511)', 'datetime': '2023-09-22T14:40:23.701337', 'gensim': '4.3.0', 'python': '3.10.9 (main, Mar  1 2023, 12:20:14) [Clang 14.0.6 ]', 'platform': 'macOS-13.4-arm64-arm-64bit', 'event': 'prepare_vocab'}\n",
      "2023-09-22 14:40:23,701 : INFO : Word2Vec lifecycle event {'msg': 'effective_min_count=3 leaves 112010 word corpus (93.21% of original 120168, drops 8158)', 'datetime': '2023-09-22T14:40:23.701631', 'gensim': '4.3.0', 'python': '3.10.9 (main, Mar  1 2023, 12:20:14) [Clang 14.0.6 ]', 'platform': 'macOS-13.4-arm64-arm-64bit', 'event': 'prepare_vocab'}\n",
      "2023-09-22 14:40:23,709 : INFO : deleting the raw counts dictionary of 10196 items\n",
      "2023-09-22 14:40:23,709 : INFO : sample=0.001 downsamples 53 most-common words\n",
      "2023-09-22 14:40:23,710 : INFO : Word2Vec lifecycle event {'msg': 'downsampling leaves estimated 75579.18967802229 word corpus (67.5%% of prior 112010)', 'datetime': '2023-09-22T14:40:23.710023', 'gensim': '4.3.0', 'python': '3.10.9 (main, Mar  1 2023, 12:20:14) [Clang 14.0.6 ]', 'platform': 'macOS-13.4-arm64-arm-64bit', 'event': 'prepare_vocab'}\n",
      "2023-09-22 14:40:23,711 : INFO : constructing a huffman tree from 3685 words\n",
      "2023-09-22 14:40:23,749 : INFO : built huffman tree with maximum node depth 15\n",
      "2023-09-22 14:40:23,763 : INFO : estimated required memory for 3685 words and 100 dimensions: 7001500 bytes\n",
      "2023-09-22 14:40:23,763 : INFO : resetting layer weights\n",
      "2023-09-22 14:40:23,767 : INFO : Word2Vec lifecycle event {'update': False, 'trim_rule': 'None', 'datetime': '2023-09-22T14:40:23.767467', 'gensim': '4.3.0', 'python': '3.10.9 (main, Mar  1 2023, 12:20:14) [Clang 14.0.6 ]', 'platform': 'macOS-13.4-arm64-arm-64bit', 'event': 'build_vocab'}\n",
      "2023-09-22 14:40:23,767 : INFO : Word2Vec lifecycle event {'msg': 'training model with 4 workers on 3685 vocabulary and 100 features, using sg=0 hs=1 sample=0.001 negative=5 window=10 shrink_windows=True', 'datetime': '2023-09-22T14:40:23.767703', 'gensim': '4.3.0', 'python': '3.10.9 (main, Mar  1 2023, 12:20:14) [Clang 14.0.6 ]', 'platform': 'macOS-13.4-arm64-arm-64bit', 'event': 'train'}\n",
      "2023-09-22 14:40:23,821 : INFO : EPOCH 0: training on 120168 raw words (75518 effective words) took 0.1s, 1507456 effective words/s\n",
      "2023-09-22 14:40:23,872 : INFO : EPOCH 1: training on 120168 raw words (75863 effective words) took 0.0s, 1539294 effective words/s\n"
     ]
    },
    {
     "name": "stdout",
     "output_type": "stream",
     "text": [
      "6702\n"
     ]
    },
    {
     "name": "stderr",
     "output_type": "stream",
     "text": [
      "2023-09-22 14:40:23,918 : INFO : EPOCH 2: training on 120168 raw words (75567 effective words) took 0.0s, 1784138 effective words/s\n",
      "2023-09-22 14:40:23,965 : INFO : EPOCH 3: training on 120168 raw words (75593 effective words) took 0.0s, 1693970 effective words/s\n",
      "2023-09-22 14:40:24,011 : INFO : EPOCH 4: training on 120168 raw words (75531 effective words) took 0.0s, 1733656 effective words/s\n",
      "2023-09-22 14:40:24,011 : INFO : Word2Vec lifecycle event {'msg': 'training on 600840 raw words (378072 effective words) took 0.2s, 1550253 effective words/s', 'datetime': '2023-09-22T14:40:24.011741', 'gensim': '4.3.0', 'python': '3.10.9 (main, Mar  1 2023, 12:20:14) [Clang 14.0.6 ]', 'platform': 'macOS-13.4-arm64-arm-64bit', 'event': 'train'}\n",
      "2023-09-22 14:40:24,011 : INFO : Word2Vec lifecycle event {'params': 'Word2Vec<vocab=3685, vector_size=100, alpha=0.025>', 'datetime': '2023-09-22T14:40:24.011958', 'gensim': '4.3.0', 'python': '3.10.9 (main, Mar  1 2023, 12:20:14) [Clang 14.0.6 ]', 'platform': 'macOS-13.4-arm64-arm-64bit', 'event': 'created'}\n"
     ]
    }
   ],
   "source": [
    "import logging\n",
    "import os\n",
    "import gensim\n",
    "from gensim.models import word2vec\n",
    "\n",
    " \n",
    "logging.basicConfig(format='%(asctime)s : %(levelname)s : %(message)s', level=logging.INFO)\n",
    "\n",
    "\n",
    "import nltk\n",
    "## Need to download packages in advance.\n",
    "# nltk.download('all')\n",
    "\n",
    "article = open(\"data/1984.txt\",\"r\").read()\n",
    "\n",
    "token_list = []\n",
    "sentence = nltk.sent_tokenize(article)\n",
    "print(len(sentence))\n",
    "for s in sentence:\n",
    "    words = nltk.word_tokenize(s)\n",
    "    token_list.append(words)\n",
    "\n",
    "## Split with blank simplely.\n",
    "# sentences = word2vec.LineSentence('data/1984.txt') \n",
    "\n",
    " \n",
    "model = word2vec.Word2Vec(token_list, sg=0,hs=1,min_count=4,window=10,vector_size=50,workers=4)\n"
   ]
  },
  {
   "cell_type": "code",
   "execution_count": 16,
   "metadata": {},
   "outputs": [
    {
     "data": {
      "text/plain": [
       "<gensim.models.word2vec.Word2Vec at 0x11fbc2fe0>"
      ]
     },
     "execution_count": 16,
     "metadata": {},
     "output_type": "execute_result"
    }
   ],
   "source": [
    "model"
   ]
  },
  {
   "cell_type": "code",
   "execution_count": 23,
   "metadata": {},
   "outputs": [
    {
     "data": {
      "text/plain": [
       "[('we', 0.958625853061676),\n",
       " ('You', 0.930338978767395),\n",
       " ('worry', 0.9245980381965637),\n",
       " ('I', 0.9222785830497742),\n",
       " ('see', 0.9146445989608765),\n",
       " ('think', 0.9129015803337097),\n",
       " ('recollect', 0.9125230312347412),\n",
       " (\"n't\", 0.9105435609817505),\n",
       " ('want', 0.9061936736106873),\n",
       " ('?', 0.9044555425643921)]"
      ]
     },
     "execution_count": 23,
     "metadata": {},
     "output_type": "execute_result"
    }
   ],
   "source": [
    "model.wv.most_similar('you', topn =10)"
   ]
  },
  {
   "cell_type": "code",
   "execution_count": 8,
   "metadata": {},
   "outputs": [
    {
     "data": {
      "text/plain": [
       "'you'"
      ]
     },
     "execution_count": 8,
     "metadata": {},
     "output_type": "execute_result"
    }
   ],
   "source": [
    "model.wv.doesnt_match(\"country political private you\".split())"
   ]
  },
  {
   "cell_type": "code",
   "execution_count": 9,
   "metadata": {},
   "outputs": [
    {
     "data": {
      "text/plain": [
       "0.8422516"
      ]
     },
     "execution_count": 9,
     "metadata": {},
     "output_type": "execute_result"
    }
   ],
   "source": [
    "model.wv.similarity('country', 'you')"
   ]
  },
  {
   "cell_type": "code",
   "execution_count": 5,
   "metadata": {},
   "outputs": [
    {
     "data": {
      "text/plain": [
       "array([-0.03292375,  0.08895564,  0.00048856,  0.03046505, -0.00541445,\n",
       "       -0.10513338,  0.0049297 ,  0.04142357, -0.04898062,  0.0013724 ,\n",
       "       -0.0111827 , -0.07269331,  0.02674972, -0.00184024,  0.01773261,\n",
       "       -0.03847567,  0.00378594, -0.04134433, -0.01642555, -0.06480426,\n",
       "       -0.03472933,  0.03682507,  0.04922772,  0.03169663, -0.03838578,\n",
       "       -0.01258296, -0.01417067, -0.0328063 , -0.0012737 ,  0.00638592,\n",
       "        0.03128506, -0.0037893 ,  0.02259933, -0.03290637, -0.04718878,\n",
       "        0.03837445,  0.06489315,  0.02966896, -0.00481968, -0.0924996 ,\n",
       "        0.02059341, -0.07002261, -0.01830051, -0.01908567,  0.01145157,\n",
       "       -0.08083474, -0.069915  ,  0.06885324,  0.04567498,  0.00771299,\n",
       "        0.00689871, -0.02002538, -0.03351856,  0.06112754, -0.04857311,\n",
       "        0.03925014,  0.07730301, -0.06804725, -0.02197334,  0.04112432,\n",
       "       -0.00771714,  0.071367  ,  0.06693672,  0.04286049, -0.02690206,\n",
       "        0.1430211 ,  0.03271381,  0.069061  , -0.14341186,  0.0240315 ,\n",
       "       -0.06080085,  0.06507334,  0.00725302, -0.01670777,  0.07245046,\n",
       "        0.02581293, -0.03123276,  0.01315387, -0.08194554, -0.0092721 ,\n",
       "        0.01628273, -0.00636768, -0.0095206 ,  0.10483225, -0.01209011,\n",
       "        0.00486451, -0.04503579,  0.0413115 ,  0.0993598 ,  0.04633222,\n",
       "        0.05329632,  0.02076835, -0.03653041, -0.0041429 ,  0.11840755,\n",
       "        0.02985471,  0.06342556, -0.04762729,  0.04717432,  0.0537582 ],\n",
       "      dtype=float32)"
      ]
     },
     "execution_count": 5,
     "metadata": {},
     "output_type": "execute_result"
    }
   ],
   "source": [
    "model.wv['country']"
   ]
  },
  {
   "cell_type": "code",
   "execution_count": null,
   "metadata": {},
   "outputs": [],
   "source": [
    "\n"
   ]
  },
  {
   "cell_type": "code",
   "execution_count": null,
   "metadata": {},
   "outputs": [],
   "source": []
  }
 ],
 "metadata": {
  "kernelspec": {
   "display_name": "base",
   "language": "python",
   "name": "python3"
  },
  "language_info": {
   "codemirror_mode": {
    "name": "ipython",
    "version": 3
   },
   "file_extension": ".py",
   "mimetype": "text/x-python",
   "name": "python",
   "nbconvert_exporter": "python",
   "pygments_lexer": "ipython3",
   "version": "3.10.9"
  }
 },
 "nbformat": 4,
 "nbformat_minor": 4
}
