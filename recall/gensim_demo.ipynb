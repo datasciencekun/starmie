{
 "cells": [
  {
   "cell_type": "code",
   "execution_count": 40,
   "metadata": {},
   "outputs": [
    {
     "name": "stdout",
     "output_type": "stream",
     "text": [
      "6702\n"
     ]
    },
    {
     "name": "stderr",
     "output_type": "stream",
     "text": [
      "2023-09-22 14:47:59,221 : INFO : collecting all words and their counts\n",
      "2023-09-22 14:47:59,221 : INFO : PROGRESS: at sentence #0, processed 0 words, keeping 0 word types\n",
      "2023-09-22 14:47:59,231 : INFO : collected 10196 word types from a corpus of 120168 raw words and 6702 sentences\n",
      "2023-09-22 14:47:59,232 : INFO : Creating a fresh vocabulary\n",
      "2023-09-22 14:47:59,237 : INFO : Word2Vec lifecycle event {'msg': 'effective_min_count=4 retains 2844 unique words (27.89% of original 10196, drops 7352)', 'datetime': '2023-09-22T14:47:59.237625', 'gensim': '4.3.0', 'python': '3.10.9 (main, Mar  1 2023, 12:20:14) [Clang 14.0.6 ]', 'platform': 'macOS-13.4-arm64-arm-64bit', 'event': 'prepare_vocab'}\n",
      "2023-09-22 14:47:59,238 : INFO : Word2Vec lifecycle event {'msg': 'effective_min_count=4 leaves 109487 word corpus (91.11% of original 120168, drops 10681)', 'datetime': '2023-09-22T14:47:59.238049', 'gensim': '4.3.0', 'python': '3.10.9 (main, Mar  1 2023, 12:20:14) [Clang 14.0.6 ]', 'platform': 'macOS-13.4-arm64-arm-64bit', 'event': 'prepare_vocab'}\n",
      "2023-09-22 14:47:59,243 : INFO : deleting the raw counts dictionary of 10196 items\n",
      "2023-09-22 14:47:59,244 : INFO : sample=0.001 downsamples 55 most-common words\n",
      "2023-09-22 14:47:59,244 : INFO : Word2Vec lifecycle event {'msg': 'downsampling leaves estimated 72731.26989569128 word corpus (66.4%% of prior 109487)', 'datetime': '2023-09-22T14:47:59.244259', 'gensim': '4.3.0', 'python': '3.10.9 (main, Mar  1 2023, 12:20:14) [Clang 14.0.6 ]', 'platform': 'macOS-13.4-arm64-arm-64bit', 'event': 'prepare_vocab'}\n",
      "2023-09-22 14:47:59,245 : INFO : constructing a huffman tree from 2844 words\n",
      "2023-09-22 14:47:59,276 : INFO : built huffman tree with maximum node depth 15\n",
      "2023-09-22 14:47:59,286 : INFO : estimated required memory for 2844 words and 50 dimensions: 3697200 bytes\n",
      "2023-09-22 14:47:59,286 : INFO : resetting layer weights\n",
      "2023-09-22 14:47:59,288 : INFO : Word2Vec lifecycle event {'update': False, 'trim_rule': 'None', 'datetime': '2023-09-22T14:47:59.288163', 'gensim': '4.3.0', 'python': '3.10.9 (main, Mar  1 2023, 12:20:14) [Clang 14.0.6 ]', 'platform': 'macOS-13.4-arm64-arm-64bit', 'event': 'build_vocab'}\n",
      "2023-09-22 14:47:59,288 : INFO : Word2Vec lifecycle event {'msg': 'training model with 4 workers on 2844 vocabulary and 50 features, using sg=0 hs=1 sample=0.001 negative=5 window=10 shrink_windows=True', 'datetime': '2023-09-22T14:47:59.288412', 'gensim': '4.3.0', 'python': '3.10.9 (main, Mar  1 2023, 12:20:14) [Clang 14.0.6 ]', 'platform': 'macOS-13.4-arm64-arm-64bit', 'event': 'train'}\n",
      "2023-09-22 14:47:59,332 : INFO : EPOCH 0: training on 120168 raw words (72607 effective words) took 0.0s, 1745507 effective words/s\n",
      "2023-09-22 14:47:59,370 : INFO : EPOCH 1: training on 120168 raw words (72697 effective words) took 0.0s, 2055509 effective words/s\n",
      "2023-09-22 14:47:59,404 : INFO : EPOCH 2: training on 120168 raw words (72697 effective words) took 0.0s, 2363938 effective words/s\n",
      "2023-09-22 14:47:59,443 : INFO : EPOCH 3: training on 120168 raw words (72483 effective words) took 0.0s, 1980872 effective words/s\n",
      "2023-09-22 14:47:59,481 : INFO : EPOCH 4: training on 120168 raw words (72524 effective words) took 0.0s, 2032763 effective words/s\n",
      "2023-09-22 14:47:59,482 : INFO : Word2Vec lifecycle event {'msg': 'training on 600840 raw words (363008 effective words) took 0.2s, 1874036 effective words/s', 'datetime': '2023-09-22T14:47:59.482318', 'gensim': '4.3.0', 'python': '3.10.9 (main, Mar  1 2023, 12:20:14) [Clang 14.0.6 ]', 'platform': 'macOS-13.4-arm64-arm-64bit', 'event': 'train'}\n",
      "2023-09-22 14:47:59,482 : INFO : Word2Vec lifecycle event {'params': 'Word2Vec<vocab=2844, vector_size=50, alpha=0.025>', 'datetime': '2023-09-22T14:47:59.482532', 'gensim': '4.3.0', 'python': '3.10.9 (main, Mar  1 2023, 12:20:14) [Clang 14.0.6 ]', 'platform': 'macOS-13.4-arm64-arm-64bit', 'event': 'created'}\n"
     ]
    }
   ],
   "source": [
    "import logging\n",
    "import os\n",
    "import gensim\n",
    "from gensim.models import word2vec\n",
    "\n",
    "# All the data could be downloaded from: https://1drv.ms/f/s!Ao2ItRTtXaxehiA2DdroBpFMIqL_\n",
    "\n",
    " \n",
    "logging.basicConfig(format='%(asctime)s : %(levelname)s : %(message)s', level=logging.INFO)\n",
    "\n",
    "\n",
    "import nltk\n",
    "## Need to download packages in advance.\n",
    "# nltk.download('all')\n",
    "\n",
    "article = open(\"data/1984.txt\",\"r\").read()\n",
    "\n",
    "token_list = []\n",
    "sentence = nltk.sent_tokenize(article)\n",
    "print(len(sentence))\n",
    "for s in sentence:\n",
    "    words = nltk.word_tokenize(s)\n",
    "    token_list.append(words)\n",
    "\n",
    "## Split with blank simplely.\n",
    "# sentences = word2vec.LineSentence('data/1984.txt') \n",
    "\n",
    " \n",
    "model = word2vec.Word2Vec(token_list, sg=0,hs=1,min_count=4,window=10,vector_size=50,workers=4)\n"
   ]
  },
  {
   "cell_type": "code",
   "execution_count": 41,
   "metadata": {},
   "outputs": [
    {
     "data": {
      "text/plain": [
       "<gensim.models.word2vec.Word2Vec at 0x12779e980>"
      ]
     },
     "execution_count": 41,
     "metadata": {},
     "output_type": "execute_result"
    }
   ],
   "source": [
    "model"
   ]
  },
  {
   "cell_type": "code",
   "execution_count": 42,
   "metadata": {},
   "outputs": [
    {
     "data": {
      "text/plain": [
       "[('want', 0.9507809281349182),\n",
       " ('You', 0.9488500952720642),\n",
       " ('we', 0.945176899433136),\n",
       " ('say', 0.9215162992477417),\n",
       " ('think', 0.9140624403953552),\n",
       " ('tell', 0.9118809700012207),\n",
       " ('suppose', 0.9098665118217468),\n",
       " ('I', 0.9038820862770081),\n",
       " ('?', 0.9027588367462158),\n",
       " ('do', 0.9024166464805603)]"
      ]
     },
     "execution_count": 42,
     "metadata": {},
     "output_type": "execute_result"
    }
   ],
   "source": [
    "model.wv.most_similar('you', topn =10)"
   ]
  },
  {
   "cell_type": "code",
   "execution_count": 36,
   "metadata": {},
   "outputs": [
    {
     "data": {
      "text/plain": [
       "'you'"
      ]
     },
     "execution_count": 36,
     "metadata": {},
     "output_type": "execute_result"
    }
   ],
   "source": [
    "model.wv.doesnt_match(\"country political private you\".split())"
   ]
  },
  {
   "cell_type": "code",
   "execution_count": 37,
   "metadata": {},
   "outputs": [
    {
     "data": {
      "text/plain": [
       "0.5865977"
      ]
     },
     "execution_count": 37,
     "metadata": {},
     "output_type": "execute_result"
    }
   ],
   "source": [
    "model.wv.similarity('country', 'you')"
   ]
  },
  {
   "cell_type": "code",
   "execution_count": 38,
   "metadata": {},
   "outputs": [
    {
     "data": {
      "text/plain": [
       "array([ 0.04380289,  0.08626389,  0.12785913, -0.1524897 , -0.00583014,\n",
       "       -0.0143222 ,  0.06010959,  0.2282303 , -0.10347102, -0.0356016 ,\n",
       "        0.11718053, -0.02611906,  0.08262578, -0.11765364,  0.02880927,\n",
       "       -0.07269792,  0.01181338,  0.01159913, -0.04426551, -0.01418009,\n",
       "        0.07754352, -0.03360986,  0.00090134,  0.14089133, -0.12491827,\n",
       "        0.03846974, -0.16662966, -0.01781555, -0.23300111,  0.57160974,\n",
       "       -0.29880255, -0.22046834,  0.22191064, -0.38030574, -0.13224316,\n",
       "        0.15094826,  0.13869305,  0.00348014, -0.19767337, -0.14443761,\n",
       "        0.30694893, -0.10431807, -0.05861634,  0.03716345,  0.2516487 ,\n",
       "       -0.11313079,  0.1524917 , -0.22469929,  0.15771258, -0.03551725],\n",
       "      dtype=float32)"
      ]
     },
     "execution_count": 38,
     "metadata": {},
     "output_type": "execute_result"
    }
   ],
   "source": [
    "model.wv['country']"
   ]
  },
  {
   "cell_type": "code",
   "execution_count": null,
   "metadata": {},
   "outputs": [],
   "source": [
    "\n"
   ]
  },
  {
   "cell_type": "code",
   "execution_count": null,
   "metadata": {},
   "outputs": [],
   "source": []
  }
 ],
 "metadata": {
  "kernelspec": {
   "display_name": "base",
   "language": "python",
   "name": "python3"
  },
  "language_info": {
   "codemirror_mode": {
    "name": "ipython",
    "version": 3
   },
   "file_extension": ".py",
   "mimetype": "text/x-python",
   "name": "python",
   "nbconvert_exporter": "python",
   "pygments_lexer": "ipython3",
   "version": "3.10.9"
  }
 },
 "nbformat": 4,
 "nbformat_minor": 4
}
