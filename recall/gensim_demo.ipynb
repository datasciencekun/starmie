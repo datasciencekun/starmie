{
 "cells": [
  {
   "cell_type": "code",
   "execution_count": 55,
   "metadata": {},
   "outputs": [],
   "source": [
    "import logging\n",
    "import os\n",
    "import gensim\n",
    "from gensim.models import word2vec\n",
    "\n",
    "# All the data could be downloaded from: https://1drv.ms/f/s!Ao2ItRTtXaxehiA2DdroBpFMIqL_\n",
    "\n",
    "from IPython.core.interactiveshell import InteractiveShell\n",
    "InteractiveShell.ast_node_interactivity = \"all\"\n"
   ]
  },
  {
   "cell_type": "code",
   "execution_count": 58,
   "metadata": {},
   "outputs": [
    {
     "data": {
      "text/plain": [
       "6702"
      ]
     },
     "execution_count": 58,
     "metadata": {},
     "output_type": "execute_result"
    },
    {
     "data": {
      "text/plain": [
       "['This',\n",
       " 'was',\n",
       " 'not',\n",
       " 'illegal',\n",
       " '(',\n",
       " 'nothing',\n",
       " 'was',\n",
       " 'illegal',\n",
       " ',',\n",
       " 'since',\n",
       " 'there',\n",
       " 'were',\n",
       " 'no',\n",
       " 'longer',\n",
       " 'any',\n",
       " 'laws',\n",
       " ')',\n",
       " ',',\n",
       " 'but',\n",
       " 'if',\n",
       " 'detected',\n",
       " 'it',\n",
       " 'was',\n",
       " 'reasonably',\n",
       " 'certain',\n",
       " 'that',\n",
       " 'it',\n",
       " 'would',\n",
       " 'be',\n",
       " 'punished',\n",
       " 'by',\n",
       " 'death',\n",
       " ',',\n",
       " 'or',\n",
       " 'at',\n",
       " 'least',\n",
       " 'by',\n",
       " 'twenty-five',\n",
       " 'years',\n",
       " 'in',\n",
       " 'a',\n",
       " 'forced-labour',\n",
       " 'camp',\n",
       " '.']"
      ]
     },
     "execution_count": 58,
     "metadata": {},
     "output_type": "execute_result"
    }
   ],
   "source": [
    "import nltk\n",
    "## Need to download packages in advance.\n",
    "# nltk.download('all')\n",
    "\n",
    "article = open(\"/Users/hayden/Documents/data/1984.txt\",\"r\").read()\n",
    "\n",
    "token_list = []\n",
    "sentence = nltk.sent_tokenize(article)\n",
    "\n",
    "for s in sentence:\n",
    "    words = nltk.word_tokenize(s)\n",
    "    token_list.append(words)\n",
    "\n",
    "## Split with blank simplely.\n",
    "# sentences = word2vec.LineSentence('data/1984.txt') \n",
    "\n",
    "len(token_list)\n",
    "token_list[100]\n",
    "\n"
   ]
  },
  {
   "cell_type": "code",
   "execution_count": 46,
   "metadata": {},
   "outputs": [
    {
     "name": "stderr",
     "output_type": "stream",
     "text": [
      "2023-09-26 11:40:47,503 : INFO : collecting all words and their counts\n",
      "2023-09-26 11:40:47,504 : INFO : PROGRESS: at sentence #0, processed 0 words, keeping 0 word types\n",
      "2023-09-26 11:40:47,521 : INFO : collected 10196 word types from a corpus of 120168 raw words and 6702 sentences\n",
      "2023-09-26 11:40:47,521 : INFO : Creating a fresh vocabulary\n",
      "2023-09-26 11:40:47,527 : INFO : Word2Vec lifecycle event {'msg': 'effective_min_count=4 retains 2844 unique words (27.89% of original 10196, drops 7352)', 'datetime': '2023-09-26T11:40:47.527445', 'gensim': '4.3.0', 'python': '3.10.9 (main, Mar  1 2023, 12:20:14) [Clang 14.0.6 ]', 'platform': 'macOS-13.4-arm64-arm-64bit', 'event': 'prepare_vocab'}\n",
      "2023-09-26 11:40:47,527 : INFO : Word2Vec lifecycle event {'msg': 'effective_min_count=4 leaves 109487 word corpus (91.11% of original 120168, drops 10681)', 'datetime': '2023-09-26T11:40:47.527810', 'gensim': '4.3.0', 'python': '3.10.9 (main, Mar  1 2023, 12:20:14) [Clang 14.0.6 ]', 'platform': 'macOS-13.4-arm64-arm-64bit', 'event': 'prepare_vocab'}\n",
      "2023-09-26 11:40:47,533 : INFO : deleting the raw counts dictionary of 10196 items\n",
      "2023-09-26 11:40:47,534 : INFO : sample=0.001 downsamples 55 most-common words\n",
      "2023-09-26 11:40:47,535 : INFO : Word2Vec lifecycle event {'msg': 'downsampling leaves estimated 72731.26989569128 word corpus (66.4%% of prior 109487)', 'datetime': '2023-09-26T11:40:47.535014', 'gensim': '4.3.0', 'python': '3.10.9 (main, Mar  1 2023, 12:20:14) [Clang 14.0.6 ]', 'platform': 'macOS-13.4-arm64-arm-64bit', 'event': 'prepare_vocab'}\n",
      "2023-09-26 11:40:47,535 : INFO : constructing a huffman tree from 2844 words\n",
      "2023-09-26 11:40:47,567 : INFO : built huffman tree with maximum node depth 15\n",
      "2023-09-26 11:40:47,577 : INFO : estimated required memory for 2844 words and 50 dimensions: 3697200 bytes\n",
      "2023-09-26 11:40:47,577 : INFO : resetting layer weights\n",
      "2023-09-26 11:40:47,579 : INFO : Word2Vec lifecycle event {'update': False, 'trim_rule': 'None', 'datetime': '2023-09-26T11:40:47.579227', 'gensim': '4.3.0', 'python': '3.10.9 (main, Mar  1 2023, 12:20:14) [Clang 14.0.6 ]', 'platform': 'macOS-13.4-arm64-arm-64bit', 'event': 'build_vocab'}\n",
      "2023-09-26 11:40:47,579 : INFO : Word2Vec lifecycle event {'msg': 'training model with 4 workers on 2844 vocabulary and 50 features, using sg=0 hs=1 sample=0.001 negative=5 window=10 shrink_windows=True', 'datetime': '2023-09-26T11:40:47.579419', 'gensim': '4.3.0', 'python': '3.10.9 (main, Mar  1 2023, 12:20:14) [Clang 14.0.6 ]', 'platform': 'macOS-13.4-arm64-arm-64bit', 'event': 'train'}\n",
      "2023-09-26 11:40:47,619 : INFO : EPOCH 0: training on 120168 raw words (72591 effective words) took 0.0s, 1943415 effective words/s\n",
      "2023-09-26 11:40:47,655 : INFO : EPOCH 1: training on 120168 raw words (72924 effective words) took 0.0s, 2135254 effective words/s\n",
      "2023-09-26 11:40:47,695 : INFO : EPOCH 2: training on 120168 raw words (72702 effective words) took 0.0s, 1905284 effective words/s\n",
      "2023-09-26 11:40:47,747 : INFO : EPOCH 3: training on 120168 raw words (72706 effective words) took 0.0s, 1537309 effective words/s\n",
      "2023-09-26 11:40:47,782 : INFO : EPOCH 4: training on 120168 raw words (72646 effective words) took 0.0s, 2227022 effective words/s\n",
      "2023-09-26 11:40:47,783 : INFO : Word2Vec lifecycle event {'msg': 'training on 600840 raw words (363569 effective words) took 0.2s, 1784441 effective words/s', 'datetime': '2023-09-26T11:40:47.783301', 'gensim': '4.3.0', 'python': '3.10.9 (main, Mar  1 2023, 12:20:14) [Clang 14.0.6 ]', 'platform': 'macOS-13.4-arm64-arm-64bit', 'event': 'train'}\n",
      "2023-09-26 11:40:47,783 : INFO : Word2Vec lifecycle event {'params': 'Word2Vec<vocab=2844, vector_size=50, alpha=0.025>', 'datetime': '2023-09-26T11:40:47.783575', 'gensim': '4.3.0', 'python': '3.10.9 (main, Mar  1 2023, 12:20:14) [Clang 14.0.6 ]', 'platform': 'macOS-13.4-arm64-arm-64bit', 'event': 'created'}\n"
     ]
    }
   ],
   "source": [
    "model = word2vec.Word2Vec(token_list, sg=0,hs=1,min_count=4,window=10,vector_size=50,workers=4)"
   ]
  },
  {
   "cell_type": "code",
   "execution_count": 41,
   "metadata": {},
   "outputs": [
    {
     "data": {
      "text/plain": [
       "<gensim.models.word2vec.Word2Vec at 0x12779e980>"
      ]
     },
     "execution_count": 41,
     "metadata": {},
     "output_type": "execute_result"
    }
   ],
   "source": [
    "model"
   ]
  },
  {
   "cell_type": "code",
   "execution_count": 42,
   "metadata": {},
   "outputs": [
    {
     "data": {
      "text/plain": [
       "[('want', 0.9507809281349182),\n",
       " ('You', 0.9488500952720642),\n",
       " ('we', 0.945176899433136),\n",
       " ('say', 0.9215162992477417),\n",
       " ('think', 0.9140624403953552),\n",
       " ('tell', 0.9118809700012207),\n",
       " ('suppose', 0.9098665118217468),\n",
       " ('I', 0.9038820862770081),\n",
       " ('?', 0.9027588367462158),\n",
       " ('do', 0.9024166464805603)]"
      ]
     },
     "execution_count": 42,
     "metadata": {},
     "output_type": "execute_result"
    }
   ],
   "source": [
    "model.wv.most_similar('you', topn =10)"
   ]
  },
  {
   "cell_type": "code",
   "execution_count": 36,
   "metadata": {},
   "outputs": [
    {
     "data": {
      "text/plain": [
       "'you'"
      ]
     },
     "execution_count": 36,
     "metadata": {},
     "output_type": "execute_result"
    }
   ],
   "source": [
    "model.wv.doesnt_match(\"country political private you\".split())"
   ]
  },
  {
   "cell_type": "code",
   "execution_count": 37,
   "metadata": {},
   "outputs": [
    {
     "data": {
      "text/plain": [
       "0.5865977"
      ]
     },
     "execution_count": 37,
     "metadata": {},
     "output_type": "execute_result"
    }
   ],
   "source": [
    "model.wv.similarity('country', 'you')"
   ]
  },
  {
   "cell_type": "code",
   "execution_count": 59,
   "metadata": {},
   "outputs": [
    {
     "data": {
      "text/plain": [
       "array([-0.5462636 ,  1.4320626 , -0.4568431 ,  0.8021699 , -0.5455619 ,\n",
       "       -0.05609033, -0.7483306 , -0.00387839, -1.1634578 ,  0.49402925,\n",
       "        1.451362  , -1.026659  ,  1.5925962 ,  0.50039256, -0.68487597,\n",
       "       -0.5655675 ,  0.04943949,  1.0824729 , -0.9539901 ,  0.93983656,\n",
       "        0.92929626,  0.34397632,  1.6380502 ,  1.0974818 ,  0.8904612 ,\n",
       "        0.5492748 , -0.1004713 , -1.436136  ,  1.1982089 ,  2.9891722 ,\n",
       "       -1.6135296 , -1.8696574 , -0.02344712, -1.6066076 , -1.219439  ,\n",
       "        1.5865974 ,  0.97423553,  0.0551686 ,  0.33960804, -0.22320561,\n",
       "        3.0165079 , -0.49505797, -0.22032976,  0.91331065,  1.4776955 ,\n",
       "       -0.7764727 ,  1.0840627 , -0.6499999 ,  0.98748434, -0.6491677 ],\n",
       "      dtype=float32)"
      ]
     },
     "execution_count": 59,
     "metadata": {},
     "output_type": "execute_result"
    }
   ],
   "source": [
    "model.wv['you']"
   ]
  },
  {
   "cell_type": "code",
   "execution_count": null,
   "metadata": {},
   "outputs": [],
   "source": [
    "\n"
   ]
  },
  {
   "cell_type": "code",
   "execution_count": null,
   "metadata": {},
   "outputs": [],
   "source": []
  }
 ],
 "metadata": {
  "kernelspec": {
   "display_name": "base",
   "language": "python",
   "name": "python3"
  },
  "language_info": {
   "codemirror_mode": {
    "name": "ipython",
    "version": 3
   },
   "file_extension": ".py",
   "mimetype": "text/x-python",
   "name": "python",
   "nbconvert_exporter": "python",
   "pygments_lexer": "ipython3",
   "version": "3.10.9"
  }
 },
 "nbformat": 4,
 "nbformat_minor": 4
}
