{
 "cells": [
  {
   "cell_type": "code",
   "execution_count": 1,
   "metadata": {},
   "outputs": [],
   "source": [
    "import matplotlib.pyplot as plt\n",
    "from math import pow\n",
    "import numpy\n",
    "\n",
    "# All the data could be downloaded from: https://1drv.ms/f/s!Ao2ItRTtXaxehiA2DdroBpFMIqL_"
   ]
  },
  {
   "cell_type": "code",
   "execution_count": 2,
   "metadata": {},
   "outputs": [],
   "source": [
    "def matrix_factorization(R,P,Q,K,steps=5000,alpha=0.0002,beta=0.02):\n",
    "    Q=Q.T  \n",
    "    error_result=[]\n",
    "    for step in range(steps):\n",
    "        for i in range(len(R)):\n",
    "            for j in range(len(R[i])):\n",
    "                if R[i][j]>0:\n",
    "                    eij=R[i][j]-numpy.dot(P[i,:],Q[:,j]) # .dot(P,Q) 行列の内積\n",
    "                    for k in range(K):\n",
    "                        P[i][k]=P[i][k]+alpha*(2*eij*Q[k][j]-beta*P[i][k])\n",
    "                        Q[k][j]=Q[k][j]+alpha*(2*eij*P[i][k]-beta*Q[k][j])\n",
    "        eR=numpy.dot(P,Q)\n",
    "        e=0\n",
    "        for i in range(len(R)):\n",
    "            for j in range(len(R[i])):\n",
    "                if R[i][j]>0:\n",
    "                    e=e+pow(R[i][j]-numpy.dot(P[i,:],Q[:,j]),2)\n",
    "                    for k in range(K):\n",
    "                        e=e+(beta/2)*(pow(P[i][k],2)+pow(Q[k][j],2))\n",
    "        error_result.append(e)\n",
    "        if e<0.001:\n",
    "            break\n",
    "    return P,Q.T,error_result"
   ]
  },
  {
   "cell_type": "code",
   "execution_count": 3,
   "metadata": {},
   "outputs": [
    {
     "name": "stdout",
     "output_type": "stream",
     "text": [
      "最初のスコア行列は：\n",
      " [[5 3 0 1 2]\n",
      " [4 0 0 1 0]\n",
      " [1 1 0 5 3]\n",
      " [1 0 0 4 1]\n",
      " [0 1 5 4 2]\n",
      " [5 3 0 2 1]\n",
      " [0 1 1 3 1]]\n",
      "\n",
      "MFでのスコア行列R_MFは：\n",
      " [[4.98536078 2.97149129 3.98767377 1.01983625 1.9552972 ]\n",
      " [3.98422413 1.94831326 3.07521504 1.00347595 0.60416117]\n",
      " [1.00935036 1.00556966 3.34088853 4.99059867 2.93258698]\n",
      " [0.99053104 0.56847153 2.57830426 3.94662853 1.08367198]\n",
      " [3.38598507 1.03521522 4.95463831 3.99800603 1.98926747]\n",
      " [4.97150607 2.98059419 3.64022261 1.9779927  1.04554327]\n",
      " [0.46198697 0.94129536 1.05911577 2.9603916  0.96550472]]\n"
     ]
    }
   ],
   "source": [
    "R=[\n",
    "        [5,3,0,1,2],\n",
    "        [4,0,0,1,0],\n",
    "        [1,1,0,5,3],\n",
    "        [1,0,0,4,1],\n",
    "        [0,1,5,4,2],\n",
    "        [5,3,0,2,1],\n",
    "        [0,1,1,3,1],\n",
    "]\n",
    "\n",
    "R=numpy.array(R)\n",
    "N=len(R)\n",
    "M=len(R[0])\n",
    "K=5\n",
    "\n",
    "P=numpy.random.rand(N,K) #ランダムで初期化\n",
    "Q=numpy.random.rand(M,K) #ランダムで初期化\n",
    "\n",
    "nP,nQ,error_result=matrix_factorization(R,P,Q,K)\n",
    "print(\"最初のスコア行列は：\\n\",R)\n",
    "R_MF=numpy.dot(nP,nQ.T)\n",
    "print(\"\\nMFでのスコア行列R_MFは：\\n\",R_MF)"
   ]
  },
  {
   "cell_type": "code",
   "execution_count": 4,
   "metadata": {},
   "outputs": [
    {
     "data": {
      "image/png": "[encoded data removed]",
      "text/plain": [
       "<Figure size 640x480 with 1 Axes>"
      ]
     },
     "metadata": {},
     "output_type": "display_data"
    }
   ],
   "source": [
    "#-------------損失関数の収束グラフです---------------\n",
    "\n",
    "n=len(error_result)\n",
    "x=range(n)\n",
    "plt.plot(x,error_result,color='r',linewidth=3)\n",
    "plt.title(\"Convergence curve\")\n",
    "plt.xlabel(\"generation\")\n",
    "plt.ylabel(\"loss\")\n",
    "plt.show()  #左から右へと下降し収束していく曲線です"
   ]
  },
  {
   "cell_type": "code",
   "execution_count": null,
   "metadata": {},
   "outputs": [],
   "source": [
    "\n"
   ]
  },
  {
   "cell_type": "code",
   "execution_count": null,
   "metadata": {},
   "outputs": [],
   "source": []
  }
 ],
 "metadata": {
  "kernelspec": {
   "display_name": "base",
   "language": "python",
   "name": "python3"
  },
  "language_info": {
   "codemirror_mode": {
    "name": "ipython",
    "version": 3
   },
   "file_extension": ".py",
   "mimetype": "text/x-python",
   "name": "python",
   "nbconvert_exporter": "python",
   "pygments_lexer": "ipython3",
   "version": "3.10.9"
  }
 },
 "nbformat": 4,
 "nbformat_minor": 4
}
